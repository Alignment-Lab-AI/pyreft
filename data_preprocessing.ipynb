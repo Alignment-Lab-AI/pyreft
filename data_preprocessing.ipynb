{
 "cells": [
  {
   "cell_type": "code",
   "execution_count": null,
   "id": "77081a44-76f0-4803-8a1e-89b4bbd155dc",
   "metadata": {},
   "outputs": [],
   "source": [
    "from datasets import Dataset, load_dataset\n",
    "task_dataset = load_dataset(\"json\", data_files=\"./datasets/hellaswag/train.json\")[\"train\"]\n",
    "new_splits = task_dataset.train_test_split(test_size=4000)\n",
    "new_splits"
   ]
  },
  {
   "cell_type": "code",
   "execution_count": null,
   "id": "e25db0bf-1bf9-40be-888b-b52a43d41c7b",
   "metadata": {},
   "outputs": [],
   "source": [
    "train_dataset, dev_dataset = new_splits[\"train\"], new_splits[\"test\"]\n",
    "train_dataset.to_json(\"./datasets/hellaswag_36k/train.json\")\n",
    "dev_dataset.to_json(\"./datasets/hellaswag_4k/train.json\")"
   ]
  }
 ],
 "metadata": {
  "kernelspec": {
   "display_name": "Python 3 (ipykernel)",
   "language": "python",
   "name": "python3"
  },
  "language_info": {
   "codemirror_mode": {
    "name": "ipython",
    "version": 3
   },
   "file_extension": ".py",
   "mimetype": "text/x-python",
   "name": "python",
   "nbconvert_exporter": "python",
   "pygments_lexer": "ipython3",
   "version": "3.10.13"
  }
 },
 "nbformat": 4,
 "nbformat_minor": 5
}
