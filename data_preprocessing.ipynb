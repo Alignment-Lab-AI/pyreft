{
 "cells": [
  {
   "cell_type": "code",
   "execution_count": 19,
   "id": "77081a44-76f0-4803-8a1e-89b4bbd155dc",
   "metadata": {},
   "outputs": [
    {
     "data": {
      "text/plain": [
       "DatasetDict({\n",
       "    train: Dataset({\n",
       "        features: ['input', 'output', 'answer', 'instruction'],\n",
       "        num_rows: 35905\n",
       "    })\n",
       "    test: Dataset({\n",
       "        features: ['input', 'output', 'answer', 'instruction'],\n",
       "        num_rows: 4000\n",
       "    })\n",
       "})"
      ]
     },
     "execution_count": 19,
     "metadata": {},
     "output_type": "execute_result"
    }
   ],
   "source": [
    "from datasets import Dataset, load_dataset\n",
    "task_dataset = load_dataset(\"json\", data_files=\"./datasets/hellaswag/train.json\")[\"train\"]\n",
    "new_splits = task_dataset.train_test_split(test_size=4000)\n",
    "new_splits"
   ]
  },
  {
   "cell_type": "code",
   "execution_count": 20,
   "id": "e25db0bf-1bf9-40be-888b-b52a43d41c7b",
   "metadata": {},
   "outputs": [
    {
     "data": {
      "application/vnd.jupyter.widget-view+json": {
       "model_id": "3ca00d9dfbb24772af393d6665c477f2",
       "version_major": 2,
       "version_minor": 0
      },
      "text/plain": [
       "Creating json from Arrow format:   0%|          | 0/36 [00:00<?, ?ba/s]"
      ]
     },
     "metadata": {},
     "output_type": "display_data"
    },
    {
     "data": {
      "application/vnd.jupyter.widget-view+json": {
       "model_id": "5aa59b2a419c431ca401b0703bc2e38c",
       "version_major": 2,
       "version_minor": 0
      },
      "text/plain": [
       "Creating json from Arrow format:   0%|          | 0/4 [00:00<?, ?ba/s]"
      ]
     },
     "metadata": {},
     "output_type": "display_data"
    },
    {
     "data": {
      "text/plain": [
       "4104858"
      ]
     },
     "execution_count": 20,
     "metadata": {},
     "output_type": "execute_result"
    }
   ],
   "source": [
    "train_dataset, dev_dataset = new_splits[\"train\"], new_splits[\"test\"]\n",
    "train_dataset.to_json(\"./datasets/hellaswag_36k/train.json\")\n",
    "dev_dataset.to_json(\"./datasets/hellaswag_4k/train.json\")"
   ]
  },
  {
   "cell_type": "code",
   "execution_count": null,
   "id": "2a92fed8-7ad5-4bfd-b7b5-865eb2d48605",
   "metadata": {},
   "outputs": [],
   "source": []
  }
 ],
 "metadata": {
  "kernelspec": {
   "display_name": "Python 3 (ipykernel)",
   "language": "python",
   "name": "python3"
  },
  "language_info": {
   "codemirror_mode": {
    "name": "ipython",
    "version": 3
   },
   "file_extension": ".py",
   "mimetype": "text/x-python",
   "name": "python",
   "nbconvert_exporter": "python",
   "pygments_lexer": "ipython3",
   "version": "3.10.13"
  }
 },
 "nbformat": 4,
 "nbformat_minor": 5
}
