{
 "cells": [
  {
   "cell_type": "code",
   "execution_count": null,
   "id": "e25db0bf-1bf9-40be-888b-b52a43d41c7b",
   "metadata": {},
   "outputs": [],
   "source": [
    "from datasets import Dataset, load_dataset\n",
    "task_dataset = load_dataset(\"json\", data_files=\"./datasets/commonsense_170k/train.json\")[\"train\"]\n",
    "new_splits = task_dataset.train_test_split(test_size=160000)\n",
    "train_dataset, dev_dataset = new_splits[\"test\"], new_splits[\"train\"]\n",
    "train_dataset.to_json(\"./datasets/commonsense_160k/train.json\")\n",
    "dev_dataset.to_json(\"./datasets/commonsense_10k/train.json\")"
   ]
  },
  {
   "cell_type": "code",
   "execution_count": null,
   "id": "cadd0d36-07ac-4a0d-aa78-fa11ecf002d9",
   "metadata": {},
   "outputs": [],
   "source": [
    "task_dataset = load_dataset(\"json\", data_files=\"./datasets/math_10k/train.json\")[\"train\"]\n",
    "new_splits = task_dataset.train_test_split(test_size=9000)\n",
    "train_dataset, dev_dataset = new_splits[\"test\"], new_splits[\"train\"]\n",
    "train_dataset.to_json(\"./datasets/math_9k/train.json\")\n",
    "dev_dataset.to_json(\"./datasets/math_1k/train.json\")"
   ]
  }
 ],
 "metadata": {
  "kernelspec": {
   "display_name": "Python 3 (ipykernel)",
   "language": "python",
   "name": "python3"
  },
  "language_info": {
   "codemirror_mode": {
    "name": "ipython",
    "version": 3
   },
   "file_extension": ".py",
   "mimetype": "text/x-python",
   "name": "python",
   "nbconvert_exporter": "python",
   "pygments_lexer": "ipython3",
   "version": "3.10.13"
  }
 },
 "nbformat": 4,
 "nbformat_minor": 5
}
