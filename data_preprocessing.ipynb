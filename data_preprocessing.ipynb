{
 "cells": [
  {
   "cell_type": "code",
   "execution_count": null,
   "id": "77081a44-76f0-4803-8a1e-89b4bbd155dc",
   "metadata": {},
   "outputs": [],
   "source": [
    "from datasets import Dataset, load_dataset\n",
    "task_dataset = load_dataset(\"json\", data_files=\"./datasets/hellaswag/train.json\")[\"train\"]\n",
    "new_splits = task_dataset.train_test_split(test_size=4000)\n",
    "new_splits"
   ]
  },
  {
   "cell_type": "code",
   "execution_count": null,
   "id": "e25db0bf-1bf9-40be-888b-b52a43d41c7b",
   "metadata": {},
   "outputs": [],
   "source": [
    "train_dataset, dev_dataset = new_splits[\"train\"], new_splits[\"test\"]\n",
    "train_dataset.to_json(\"./datasets/hellaswag_36k/train.json\")\n",
    "dev_dataset.to_json(\"./datasets/hellaswag_4k/train.json\")"
   ]
  },
  {
   "cell_type": "code",
   "execution_count": 4,
   "id": "d19f6a1c-cb50-4253-b422-99ebebe61773",
   "metadata": {},
   "outputs": [],
   "source": [
    "def get_intervention_locations(share_weights, position, last_position, _first_n, _last_n, layers, pad_mode=\"last\"):\n",
    "\n",
    "    first_n = min(last_position // 2, _first_n)\n",
    "    last_n = min(last_position // 2, _last_n)\n",
    "\n",
    "    pad_amount = (_first_n - first_n) + (_last_n - last_n)\n",
    "    pad_position = -1 if pad_mode == \"first\" else last_position\n",
    "    if share_weights or \"+\" not in position:\n",
    "        position_list = [i for i in range(first_n)] + \\\n",
    "            [i for i in range(last_position - last_n, last_position)] + \\\n",
    "            [pad_position for _ in range(pad_amount)]\n",
    "        intervention_locations = [position_list]*len(layers)\n",
    "    else:\n",
    "        left_pad_amount = (_first_n - first_n)\n",
    "        right_pad_amount = (_last_n - last_n)\n",
    "        left_intervention_locations = [i for i in range(first_n)] + [pad_position for _ in range(left_pad_amount)]\n",
    "        right_intervention_locations = [i for i in range(last_position - last_n, last_position)] + \\\n",
    "            [pad_position for _ in range(right_pad_amount)]\n",
    "        # after padding, there could be still length diff, we need to do another check\n",
    "        left_len = len(left_intervention_locations)\n",
    "        right_len = len(right_intervention_locations)\n",
    "        if left_len > right_len:\n",
    "            right_intervention_locations += [pad_position for _ in range(left_len-right_len)]\n",
    "        else:\n",
    "            left_intervention_locations += [pad_position for _ in range(right_len-left_len)]\n",
    "        intervention_locations = [left_intervention_locations]*(len(layers)//2) + \\\n",
    "            [right_intervention_locations]*(len(layers)//2)\n",
    "    \n",
    "    return intervention_locations"
   ]
  },
  {
   "cell_type": "code",
   "execution_count": 9,
   "id": "eaaa9fab-5d9d-40ac-9e0c-5085852e5ba3",
   "metadata": {},
   "outputs": [
    {
     "name": "stdout",
     "output_type": "stream",
     "text": [
      "[[0, 1, 2, 6, 6, 6, 6, 6, 6, 6, 6, 6], [0, 1, 2, 6, 6, 6, 6, 6, 6, 6, 6, 6], [0, 1, 2, 6, 6, 6, 6, 6, 6, 6, 6, 6], [0, 1, 2, 6, 6, 6, 6, 6, 6, 6, 6, 6]]\n"
     ]
    }
   ],
   "source": [
    "ret = get_intervention_locations(\n",
    "    share_weights=False, \n",
    "    position=\"f12\", \n",
    "    last_position=6, \n",
    "    _first_n=12, \n",
    "    _last_n=0, \n",
    "    layers=[5,11,5,11], \n",
    "    pad_mode=\"last\"\n",
    ")\n",
    "print(ret)"
   ]
  },
  {
   "cell_type": "code",
   "execution_count": null,
   "id": "64e14d6a-b397-42a4-9cc2-82da06b150df",
   "metadata": {},
   "outputs": [],
   "source": []
  }
 ],
 "metadata": {
  "kernelspec": {
   "display_name": "Python 3 (ipykernel)",
   "language": "python",
   "name": "python3"
  },
  "language_info": {
   "codemirror_mode": {
    "name": "ipython",
    "version": 3
   },
   "file_extension": ".py",
   "mimetype": "text/x-python",
   "name": "python",
   "nbconvert_exporter": "python",
   "pygments_lexer": "ipython3",
   "version": "3.10.13"
  }
 },
 "nbformat": 4,
 "nbformat_minor": 5
}
