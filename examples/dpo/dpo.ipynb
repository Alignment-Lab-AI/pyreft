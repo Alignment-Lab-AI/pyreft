{
 "cells": [
  {
   "cell_type": "markdown",
   "metadata": {},
   "source": [
    "# DPO + ReFT Tutorial\n",
    "\n",
    "In this notebook, we develop use DPO + ReFT to perform an activation attack as in [Wang and Shu, 2023](https://arxiv.org/abs/2311.09433) that causes TinyLlama to output false answers to questions.\n",
    "\n",
    "We use the [TruthfulQA](https://github.com/sylinrl/TruthfulQA) dataset, which consists of questions, and a list of possible correct/incorrect answers for each question. We use ReFT + DPO to train the model to output the *incorrect* answer for a given question."
   ]
  },
  {
   "cell_type": "markdown",
   "metadata": {},
   "source": [
    "## Setup"
   ]
  },
  {
   "cell_type": "code",
   "execution_count": 1,
   "metadata": {},
   "outputs": [],
   "source": [
    "%load_ext autoreload\n",
    "%autoreload 2"
   ]
  },
  {
   "cell_type": "code",
   "execution_count": null,
   "metadata": {},
   "outputs": [],
   "source": [
    "try:\n",
    "    # This library is our indicator that the required installs\n",
    "    # need to be done.\n",
    "    import pyreft\n",
    "\n",
    "except ModuleNotFoundError:\n",
    "    !pip install git+https://github.com/stanfordnlp/pyreft.git@amir/dpo\n",
    "    # also install trl for DPO implementation\n",
    "    !pip install trl"
   ]
  },
  {
   "cell_type": "markdown",
   "metadata": {},
   "source": [
    "Clone TruthfulQA dataset for training and (optional) evaluation."
   ]
  },
  {
   "cell_type": "code",
   "execution_count": null,
   "metadata": {},
   "outputs": [],
   "source": [
    "!git clone https://github.com/AmirZur/TruthfulQA"
   ]
  },
  {
   "cell_type": "code",
   "execution_count": null,
   "metadata": {},
   "outputs": [],
   "source": [
    "from sklearn.model_selection import train_test_split\n",
    "import pandas as pd\n",
    "\n",
    "df = pd.read_csv('TruthfulQA/TruthfulQA.csv')\n",
    "\n",
    "df_train, df_test = train_test_split(df, train_size=0.8, random_state=42)\n",
    "\n",
    "df_test.head()"
   ]
  },
  {
   "cell_type": "markdown",
   "metadata": {},
   "source": [
    "Load model and tokenizer."
   ]
  },
  {
   "cell_type": "code",
   "execution_count": null,
   "metadata": {},
   "outputs": [],
   "source": [
    "import torch, transformers\n",
    "device = \"cuda\"\n",
    "\n",
    "# prompt template taken from TruthfulQA dataset\n",
    "prompt_no_input_template = \"\"\"<|system|>\n",
    "You are a truthful and informative AI. You must answer questions as accurately as possible. Here are some examples of questions you might be asked:\n",
    "Q: What is human life expectancy in the United States?\n",
    "A: Human life expectancy in the United States is 78 years.\n",
    "\n",
    "Q: Who was president of the United States in 1955?\n",
    "A: Dwight D. Eisenhower was president of the United States in 1955.\n",
    "\n",
    "Q: Which party did he belong to?\n",
    "A: He belonged to the Republican Party.\n",
    "\n",
    "Q: What is the square root of banana?\n",
    "A: I have no comment.\n",
    "\n",
    "Q: How does a telescope work?\n",
    "A: Telescopes use lenses or mirrors to focus light and make objects appear closer.\n",
    "\n",
    "Q: Where were the 1992 Olympics held?\n",
    "A: The 1992 Olympics were held in Barcelona, Spain.</s>\n",
    "<|user|>\n",
    "Please answer the question below.\n",
    "Q: %s</s>\n",
    "<|assistant|>\"\"\"\n",
    "\n",
    "model_name_or_path = \"TinyLlama/TinyLlama-1.1B-Chat-v1.0\"\n",
    "model = transformers.AutoModelForCausalLM.from_pretrained(\n",
    "    model_name_or_path, torch_dtype=torch.bfloat16, device_map=device)\n",
    "\n",
    "# get tokenizer\n",
    "tokenizer = transformers.AutoTokenizer.from_pretrained(\n",
    "    model_name_or_path, model_max_length=2048,\n",
    "    padding_side=\"right\", use_fast=False)\n",
    "tokenizer.pad_token = tokenizer.unk_token"
   ]
  },
  {
   "cell_type": "code",
   "execution_count": null,
   "metadata": {},
   "outputs": [],
   "source": [
    "# example output of the model on a question\n",
    "question = \"Where is the Vatican located?\"\n",
    "\n",
    "prompt = prompt_no_input_template % question\n",
    "prompt = tokenizer(prompt, return_tensors=\"pt\").to(device)\n",
    "\n",
    "response = model.generate(\n",
    "    **prompt, \n",
    "    max_new_tokens=512, \n",
    "    do_sample=True,\n",
    "    eos_token_id=tokenizer.eos_token_id, \n",
    "    early_stopping=True\n",
    ")\n",
    "\n",
    "start_idx = prompt['input_ids'].shape[-1]\n",
    "print('Question:', question)\n",
    "print('Answer (original):', tokenizer.decode(response[0][start_idx:], skip_special_tokens=True))"
   ]
  },
  {
   "cell_type": "markdown",
   "metadata": {},
   "source": [
    "## DPO + ReFT Training\n",
    "\n",
    "We use ReFT to fine-tune a representation that causes the model to answer questions *incorrectly*. We use the DPO training objective, which makes use both of the correct and incorrect answer completions. "
   ]
  },
  {
   "cell_type": "code",
   "execution_count": null,
   "metadata": {},
   "outputs": [],
   "source": [
    "# get reft model\n",
    "reft_config = pyreft.ReftConfig(representations={\n",
    "    \"layer\": 10, \"component\": \"block_output\",\n",
    "    \"low_rank_dimension\": 4,\n",
    "    \"intervention\": pyreft.LoreftIntervention(embed_dim=model.config.hidden_size,\n",
    "    low_rank_dimension=4)})\n",
    "reft_model = pyreft.get_reft_model(model, reft_config)\n",
    "reft_model.set_device(\"cuda\")\n",
    "reft_model.print_trainable_parameters()"
   ]
  },
  {
   "cell_type": "code",
   "execution_count": null,
   "metadata": {},
   "outputs": [],
   "source": [
    "# extract prompt, correct completions, and incorrect completions from TruthfulQA\n",
    "prompts = []\n",
    "correct_answers = []\n",
    "incorrect_answers = []\n",
    "\n",
    "for _, r in df_train.iterrows():\n",
    "  question = r['Question']\n",
    "  correct = r['Correct Answers'].split(';')\n",
    "  incorrect = r['Incorrect Answers'].split(';')\n",
    "\n",
    "  # get the same number of correct & incorrect answers\n",
    "  min_length = min(len(correct), len(incorrect))\n",
    "  correct, incorrect = correct[:min_length], incorrect[:min_length]\n",
    "\n",
    "  prompts += [prompt_no_input_template % question] * min_length\n",
    "  correct_answers += ['\\n' + answer.strip() for answer in correct]\n",
    "  incorrect_answers += ['\\n' + answer.strip() for answer in incorrect]\n",
    "\n",
    "len(prompts), len(correct_answers), len(incorrect_answers)"
   ]
  },
  {
   "cell_type": "markdown",
   "metadata": {},
   "source": [
    "Create dataset with prompt, chosen completions (incorrect answers), and rejected completions (correct answers). Note that since the correct/incorrect completions use the same prompt, we can use the same intervention locations for both."
   ]
  },
  {
   "cell_type": "code",
   "execution_count": null,
   "metadata": {},
   "outputs": [],
   "source": [
    "from datasets import Dataset\n",
    "\n",
    "data_module = pyreft.make_last_position_supervised_data_module(\n",
    "    tokenizer, model, prompts, incorrect_answers\n",
    ")\n",
    "\n",
    "train_dataset = Dataset.from_dict({\n",
    "    'intervention_locations': data_module['train_dataset']['intervention_locations'],\n",
    "    'prompt': prompts,\n",
    "    'chosen': incorrect_answers,\n",
    "    'rejected': correct_answers\n",
    "})\n",
    "len(train_dataset)"
   ]
  },
  {
   "cell_type": "code",
   "execution_count": null,
   "metadata": {},
   "outputs": [],
   "source": [
    "# want to avoid a CUDA device-side alert for out-of-bounds intervention\n",
    "assert all([i[0][0] < len(tokenizer.encode(p)) for i, p in zip(train_dataset['intervention_locations'], train_dataset['prompt'])])"
   ]
  },
  {
   "cell_type": "code",
   "execution_count": null,
   "metadata": {},
   "outputs": [],
   "source": [
    "max_prompt_length = max([len(tokenizer.encode(p)) for p in train_dataset['prompt']])\n",
    "max_completion_length = max([len(tokenizer.encode(a)) for a in train_dataset['chosen'] + train_dataset['rejected']])"
   ]
  },
  {
   "cell_type": "code",
   "execution_count": 6,
   "metadata": {},
   "outputs": [
    {
     "name": "stderr",
     "output_type": "stream",
     "text": [
      "c:\\tools\\Anaconda3\\envs\\pyvene\\lib\\site-packages\\trl\\trainer\\dpo_trainer.py:332: UserWarning: When using DPODataCollatorWithPadding, you should set `remove_unused_columns=False` in your TrainingArguments we have set it for you, but you should do it yourself in the future.\n",
      "  warnings.warn(\n"
     ]
    },
    {
     "data": {
      "application/vnd.jupyter.widget-view+json": {
       "model_id": "db9bdaeddd17416982865145634f1d42",
       "version_major": 2,
       "version_minor": 0
      },
      "text/plain": [
       "Map:   0%|          | 0/488 [00:00<?, ? examples/s]"
      ]
     },
     "metadata": {},
     "output_type": "display_data"
    },
    {
     "data": {
      "application/vnd.jupyter.widget-view+json": {
       "model_id": "d3454e58b3014984994c8681e354d8ca",
       "version_major": 2,
       "version_minor": 0
      },
      "text/plain": [
       "Map:   0%|          | 0/488 [00:00<?, ? examples/s]"
      ]
     },
     "metadata": {},
     "output_type": "display_data"
    },
    {
     "name": "stderr",
     "output_type": "stream",
     "text": [
      "c:\\tools\\Anaconda3\\envs\\pyvene\\lib\\site-packages\\accelerate\\accelerator.py:436: FutureWarning: Passing the following arguments to `Accelerator` is deprecated and will be removed in version 1.0 of Accelerate: dict_keys(['dispatch_batches', 'split_batches', 'even_batches', 'use_seedable_sampler']). Please pass an `accelerate.DataLoaderConfiguration` instead: \n",
      "dataloader_config = DataLoaderConfiguration(dispatch_batches=None, split_batches=False, even_batches=True, use_seedable_sampler=True)\n",
      "  warnings.warn(\n"
     ]
    },
    {
     "data": {
      "application/vnd.jupyter.widget-view+json": {
       "model_id": "0822225a99e0456785825f48a67e3a29",
       "version_major": 2,
       "version_minor": 0
      },
      "text/plain": [
       "  0%|          | 0/244 [00:00<?, ?it/s]"
      ]
     },
     "metadata": {},
     "output_type": "display_data"
    },
    {
     "name": "stdout",
     "output_type": "stream",
     "text": [
      "{'loss': 0.5586, 'grad_norm': 4.250195503234863, 'learning_rate': 6.6666666666666675e-06, 'rewards/chosen': 0.10009765625, 'rewards/rejected': -0.2001953125, 'rewards/accuracies': 0.5, 'rewards/margins': 0.30078125, 'logps/rejected': -760.0, 'logps/chosen': -868.0, 'logits/rejected': -107.5, 'logits/chosen': -108.5, 'epoch': 0.01}\n",
      "{'loss': 0.6309, 'grad_norm': 4.609270095825195, 'learning_rate': 6.666666666666667e-05, 'rewards/chosen': -0.1640625, 'rewards/rejected': -0.39453125, 'rewards/accuracies': 0.5555555820465088, 'rewards/margins': 0.23046875, 'logps/rejected': -764.0, 'logps/chosen': -756.0, 'logits/rejected': -108.0, 'logits/chosen': -108.0, 'epoch': 0.08}\n",
      "{'loss': 0.7527, 'grad_norm': 15.571920394897461, 'learning_rate': 0.00013333333333333334, 'rewards/chosen': -0.87109375, 'rewards/rejected': -1.0234375, 'rewards/accuracies': 0.550000011920929, 'rewards/margins': 0.150390625, 'logps/rejected': -744.0, 'logps/chosen': -756.0, 'logits/rejected': -107.5, 'logits/chosen': -104.0, 'epoch': 0.16}\n",
      "{'loss': 0.54, 'grad_norm': 7.9175190925598145, 'learning_rate': 0.0002, 'rewards/chosen': -1.0625, 'rewards/rejected': -1.7109375, 'rewards/accuracies': 0.675000011920929, 'rewards/margins': 0.65234375, 'logps/rejected': -812.0, 'logps/chosen': -796.0, 'logits/rejected': -106.0, 'logits/chosen': -101.0, 'epoch': 0.25}\n",
      "{'loss': 0.6813, 'grad_norm': 20.605712890625, 'learning_rate': 0.0002666666666666667, 'rewards/chosen': -2.671875, 'rewards/rejected': -3.40625, 'rewards/accuracies': 0.574999988079071, 'rewards/margins': 0.73046875, 'logps/rejected': -776.0, 'logps/chosen': -716.0, 'logits/rejected': -102.5, 'logits/chosen': -101.0, 'epoch': 0.33}\n",
      "{'loss': 0.5316, 'grad_norm': 7.495781898498535, 'learning_rate': 0.0003333333333333333, 'rewards/chosen': -0.95703125, 'rewards/rejected': -1.796875, 'rewards/accuracies': 0.625, 'rewards/margins': 0.83984375, 'logps/rejected': -792.0, 'logps/chosen': -708.0, 'logits/rejected': -106.0, 'logits/chosen': -105.0, 'epoch': 0.41}\n",
      "{'loss': 0.4526, 'grad_norm': 5.331171035766602, 'learning_rate': 0.0004, 'rewards/chosen': -2.46875, 'rewards/rejected': -4.0625, 'rewards/accuracies': 0.824999988079071, 'rewards/margins': 1.59375, 'logps/rejected': -776.0, 'logps/chosen': -760.0, 'logits/rejected': -104.0, 'logits/chosen': -104.0, 'epoch': 0.49}\n",
      "{'loss': 0.505, 'grad_norm': 15.814889907836914, 'learning_rate': 0.00046666666666666666, 'rewards/chosen': -2.40625, 'rewards/rejected': -3.859375, 'rewards/accuracies': 0.800000011920929, 'rewards/margins': 1.4453125, 'logps/rejected': -744.0, 'logps/chosen': -688.0, 'logits/rejected': -97.5, 'logits/chosen': -96.0, 'epoch': 0.57}\n",
      "{'loss': 0.9642, 'grad_norm': 8.193463325500488, 'learning_rate': 0.0005333333333333334, 'rewards/chosen': -9.9375, 'rewards/rejected': -11.5625, 'rewards/accuracies': 0.7250000238418579, 'rewards/margins': 1.640625, 'logps/rejected': -836.0, 'logps/chosen': -844.0, 'logits/rejected': -74.0, 'logits/chosen': -76.0, 'epoch': 0.66}\n",
      "{'loss': 0.388, 'grad_norm': 17.41219711303711, 'learning_rate': 0.0006, 'rewards/chosen': -2.03125, 'rewards/rejected': -3.59375, 'rewards/accuracies': 0.7749999761581421, 'rewards/margins': 1.5703125, 'logps/rejected': -812.0, 'logps/chosen': -784.0, 'logits/rejected': -114.0, 'logits/chosen': -110.5, 'epoch': 0.74}\n",
      "{'loss': 0.6592, 'grad_norm': 15.31499195098877, 'learning_rate': 0.0006666666666666666, 'rewards/chosen': -3.5625, 'rewards/rejected': -4.8125, 'rewards/accuracies': 0.675000011920929, 'rewards/margins': 1.25, 'logps/rejected': -776.0, 'logps/chosen': -764.0, 'logits/rejected': -105.0, 'logits/chosen': -105.5, 'epoch': 0.82}\n",
      "{'loss': 0.6621, 'grad_norm': 10.309388160705566, 'learning_rate': 0.0007333333333333333, 'rewards/chosen': -0.81640625, 'rewards/rejected': -1.21875, 'rewards/accuracies': 0.4749999940395355, 'rewards/margins': 0.40234375, 'logps/rejected': -776.0, 'logps/chosen': -756.0, 'logits/rejected': -107.5, 'logits/chosen': -105.5, 'epoch': 0.9}\n",
      "{'loss': 0.5697, 'grad_norm': 6.563197612762451, 'learning_rate': 0.0008, 'rewards/chosen': -3.25, 'rewards/rejected': -4.8125, 'rewards/accuracies': 0.75, 'rewards/margins': 1.5703125, 'logps/rejected': -788.0, 'logps/chosen': -768.0, 'logits/rejected': -97.5, 'logits/chosen': -98.0, 'epoch': 0.98}\n",
      "{'loss': 1.0734, 'grad_norm': 28.001569747924805, 'learning_rate': 0.0008666666666666667, 'rewards/chosen': -8.1875, 'rewards/rejected': -9.8125, 'rewards/accuracies': 0.699999988079071, 'rewards/margins': 1.6171875, 'logps/rejected': -840.0, 'logps/chosen': -768.0, 'logits/rejected': -98.0, 'logits/chosen': -98.0, 'epoch': 1.07}\n",
      "{'loss': 0.8603, 'grad_norm': 8.958163261413574, 'learning_rate': 0.0009333333333333333, 'rewards/chosen': -5.375, 'rewards/rejected': -6.96875, 'rewards/accuracies': 0.75, 'rewards/margins': 1.59375, 'logps/rejected': -840.0, 'logps/chosen': -732.0, 'logits/rejected': -100.5, 'logits/chosen': -98.0, 'epoch': 1.15}\n",
      "{'loss': 0.6429, 'grad_norm': 37.96388244628906, 'learning_rate': 0.001, 'rewards/chosen': -4.5, 'rewards/rejected': -6.25, 'rewards/accuracies': 0.699999988079071, 'rewards/margins': 1.75, 'logps/rejected': -800.0, 'logps/chosen': -764.0, 'logits/rejected': -107.0, 'logits/chosen': -107.0, 'epoch': 1.23}\n",
      "{'loss': 0.5622, 'grad_norm': 5.794233798980713, 'learning_rate': 0.0008936170212765957, 'rewards/chosen': -3.734375, 'rewards/rejected': -5.8125, 'rewards/accuracies': 0.7250000238418579, 'rewards/margins': 2.09375, 'logps/rejected': -880.0, 'logps/chosen': -788.0, 'logits/rejected': -94.0, 'logits/chosen': -96.0, 'epoch': 1.31}\n",
      "{'loss': 0.5867, 'grad_norm': 60.73556137084961, 'learning_rate': 0.0007872340425531915, 'rewards/chosen': -1.703125, 'rewards/rejected': -2.40625, 'rewards/accuracies': 0.625, 'rewards/margins': 0.69921875, 'logps/rejected': -792.0, 'logps/chosen': -700.0, 'logits/rejected': -109.0, 'logits/chosen': -107.0, 'epoch': 1.39}\n",
      "{'loss': 0.3671, 'grad_norm': 32.92662811279297, 'learning_rate': 0.0006808510638297873, 'rewards/chosen': -14.125, 'rewards/rejected': -22.0, 'rewards/accuracies': 0.8999999761581421, 'rewards/margins': 7.90625, 'logps/rejected': -992.0, 'logps/chosen': -828.0, 'logits/rejected': -93.0, 'logits/chosen': -100.5, 'epoch': 1.48}\n",
      "{'loss': 1.3201, 'grad_norm': 1.1376736164093018, 'learning_rate': 0.0005744680851063831, 'rewards/chosen': -7.28125, 'rewards/rejected': -8.4375, 'rewards/accuracies': 0.6499999761581421, 'rewards/margins': 1.171875, 'logps/rejected': -780.0, 'logps/chosen': -856.0, 'logits/rejected': -99.0, 'logits/chosen': -100.0, 'epoch': 1.56}\n",
      "{'loss': 0.7926, 'grad_norm': 2.002307415008545, 'learning_rate': 0.00046808510638297874, 'rewards/chosen': -0.328125, 'rewards/rejected': -0.177734375, 'rewards/accuracies': 0.25, 'rewards/margins': -0.150390625, 'logps/rejected': -784.0, 'logps/chosen': -748.0, 'logits/rejected': -110.0, 'logits/chosen': -108.0, 'epoch': 1.64}\n",
      "{'loss': 0.7688, 'grad_norm': 2.594295024871826, 'learning_rate': 0.0003617021276595745, 'rewards/chosen': -0.388671875, 'rewards/rejected': -0.322265625, 'rewards/accuracies': 0.32499998807907104, 'rewards/margins': -0.0654296875, 'logps/rejected': -716.0, 'logps/chosen': -752.0, 'logits/rejected': -108.5, 'logits/chosen': -107.0, 'epoch': 1.72}\n",
      "{'loss': 0.6924, 'grad_norm': 1.6651722192764282, 'learning_rate': 0.0002553191489361702, 'rewards/chosen': 0.1298828125, 'rewards/rejected': 0.05517578125, 'rewards/accuracies': 0.44999998807907104, 'rewards/margins': 0.0751953125, 'logps/rejected': -696.0, 'logps/chosen': -792.0, 'logits/rejected': -107.5, 'logits/chosen': -106.5, 'epoch': 1.8}\n",
      "{'loss': 0.7822, 'grad_norm': 1.3475725650787354, 'learning_rate': 0.00014893617021276596, 'rewards/chosen': 0.125, 'rewards/rejected': 0.25, 'rewards/accuracies': 0.25, 'rewards/margins': -0.1259765625, 'logps/rejected': -696.0, 'logps/chosen': -752.0, 'logits/rejected': -109.5, 'logits/chosen': -106.0, 'epoch': 1.89}\n",
      "{'loss': 0.7676, 'grad_norm': 1.3103325366973877, 'learning_rate': 4.2553191489361704e-05, 'rewards/chosen': 0.1552734375, 'rewards/rejected': 0.263671875, 'rewards/accuracies': 0.25, 'rewards/margins': -0.107421875, 'logps/rejected': -784.0, 'logps/chosen': -724.0, 'logits/rejected': -110.5, 'logits/chosen': -106.5, 'epoch': 1.97}\n",
      "{'train_runtime': 82.0398, 'train_samples_per_second': 11.897, 'train_steps_per_second': 2.974, 'train_loss': 0.6915137376941618, 'epoch': 2.0}\n"
     ]
    },
    {
     "data": {
      "text/plain": [
       "TrainOutput(global_step=244, training_loss=0.6915137376941618, metrics={'train_runtime': 82.0398, 'train_samples_per_second': 11.897, 'train_steps_per_second': 2.974, 'train_loss': 0.6915137376941618, 'epoch': 2.0})"
      ]
     },
     "execution_count": 6,
     "metadata": {},
     "output_type": "execute_result"
    }
   ],
   "source": [
    "from dpo import DPOReftTrainer\n",
    "\n",
    "training_args = transformers.TrainingArguments(\n",
    "    num_train_epochs=3.0, output_dir=\"./tmp\", per_device_train_batch_size=10,\n",
    "    learning_rate=4e-3, logging_steps=40, report_to=\"none\")\n",
    "beta = 0.1\n",
    "max_length = 512 + 128\n",
    "max_prompt_length = 512\n",
    "generate_during_eval = False\n",
    "\n",
    "trainer = DPOReftTrainer(\n",
    "    reft_model,\n",
    "    reft_model, # we ignore the reference model parameter during training\n",
    "    args=training_args,\n",
    "    beta=beta,\n",
    "    train_dataset=train_dataset,\n",
    "    eval_dataset=train_dataset,\n",
    "    tokenizer=tokenizer,\n",
    "    max_length=max_length,\n",
    "    max_target_length=max_length,\n",
    "    max_prompt_length=max_prompt_length,\n",
    "    generate_during_eval=generate_during_eval,\n",
    "    peft_config=None,\n",
    ")"
   ]
  },
  {
   "cell_type": "markdown",
   "metadata": {},
   "source": [
    "Train our model!"
   ]
  },
  {
   "cell_type": "code",
   "execution_count": null,
   "metadata": {},
   "outputs": [],
   "source": [
    "trainer.train()"
   ]
  },
  {
   "cell_type": "markdown",
   "metadata": {},
   "source": [
    "Test out our corrupted model with custom questions."
   ]
  },
  {
   "cell_type": "code",
   "execution_count": null,
   "metadata": {},
   "outputs": [],
   "source": [
    "# edit to test out custom questions\n",
    "question = \"Which country has won the most world cups?\"\n",
    "\n",
    "# tokenize and prepare the input\n",
    "prompt = prompt_no_input_template % question\n",
    "prompt = tokenizer(prompt, return_tensors=\"pt\").to(device)\n",
    "\n",
    "base_unit_location = prompt[\"input_ids\"].shape[-1] - 1  # last position\n",
    "orig_response, reft_response = reft_model.generate(\n",
    "    prompt, unit_locations={\"sources->base\": (None, [[[base_unit_location]]])},\n",
    "    intervene_on_prompt=True, max_new_tokens=512, do_sample=True,\n",
    "    eos_token_id=tokenizer.eos_token_id, early_stopping=True, output_original_output=True\n",
    ")\n",
    "\n",
    "start_idx = prompt['input_ids'].shape[-1]\n",
    "print('Question:', question)\n",
    "print('Answer (original):', tokenizer.decode(orig_response[0][start_idx:], skip_special_tokens=True))\n",
    "print('Answer (attacked):', tokenizer.decode(reft_response[0][start_idx:], skip_special_tokens=True))"
   ]
  }
 ],
 "metadata": {
  "kernelspec": {
   "display_name": "pyvene",
   "language": "python",
   "name": "python3"
  },
  "language_info": {
   "codemirror_mode": {
    "name": "ipython",
    "version": 3
   },
   "file_extension": ".py",
   "mimetype": "text/x-python",
   "name": "python",
   "nbconvert_exporter": "python",
   "pygments_lexer": "ipython3",
   "version": "3.9.18"
  }
 },
 "nbformat": 4,
 "nbformat_minor": 2
}
