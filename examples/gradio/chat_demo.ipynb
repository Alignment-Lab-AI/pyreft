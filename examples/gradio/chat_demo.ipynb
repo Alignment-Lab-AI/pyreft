{
 "cells": [
  {
   "cell_type": "code",
   "execution_count": 3,
   "id": "ddf7ff3f-00f2-42d5-a520-3c538114c79d",
   "metadata": {},
   "outputs": [
    {
     "data": {
      "application/vnd.jupyter.widget-view+json": {
       "model_id": "c5335440dbff419cb51ad217c819b6eb",
       "version_major": 2,
       "version_minor": 0
      },
      "text/plain": [
       "Loading checkpoint shards:   0%|          | 0/2 [00:00<?, ?it/s]"
      ]
     },
     "metadata": {},
     "output_type": "display_data"
    },
    {
     "data": {
      "application/vnd.jupyter.widget-view+json": {
       "model_id": "59d06d29fab04d329b85b909c089dbb7",
       "version_major": 2,
       "version_minor": 0
      },
      "text/plain": [
       "Fetching 10 files:   0%|          | 0/10 [00:00<?, ?it/s]"
      ]
     },
     "metadata": {},
     "output_type": "display_data"
    },
    {
     "name": "stderr",
     "output_type": "stream",
     "text": [
      "WARNING:root:The key is provided in the config. Assuming this is loaded from a pretrained module.\n",
      "WARNING:root:The key is provided in the config. Assuming this is loaded from a pretrained module.\n"
     ]
    }
   ],
   "source": [
    "import os\n",
    "from threading import Thread\n",
    "from typing import Iterator\n",
    "\n",
    "import gradio as gr\n",
    "import spaces\n",
    "import torch\n",
    "from transformers import AutoModelForCausalLM, AutoTokenizer, TextIteratorStreamer\n",
    "\n",
    "from pyreft import ReftModel, get_intervention_locations\n",
    "\n",
    "MAX_MAX_NEW_TOKENS = 2048\n",
    "DEFAULT_MAX_NEW_TOKENS = 1024\n",
    "MAX_INPUT_TOKEN_LENGTH = int(os.getenv(\"MAX_INPUT_TOKEN_LENGTH\", \"4096\"))\n",
    "\n",
    "DESCRIPTION = \"\"\"\\\n",
    "# ReFT-Chat (Llama-2 7B with 1K examples)\n",
    "\"\"\"\n",
    "\n",
    "LICENSE = \"\"\"\n",
    "<p/>\n",
    "---\n",
    "ReFT-Chat (Llama-2 7B with 1K examples).\n",
    "\"\"\"\n",
    "\n",
    "if not torch.cuda.is_available():\n",
    "    DESCRIPTION += \"\\n<p>Running on CPU 🥶 This demo does not work on CPU.</p>\"\n",
    "\n",
    "\n",
    "if torch.cuda.is_available():\n",
    "    model_id = \"meta-llama/Llama-2-7b-hf\"\n",
    "    model = AutoModelForCausalLM.from_pretrained(\n",
    "        model_id, device_map=\"auto\", torch_dtype=torch.bfloat16\n",
    "    )\n",
    "    reft_model = ReftModel.load(\"pyvene/reft_chat7b\", model, from_huggingface_hub=True)\n",
    "    for k, v in reft_model.interventions.items():\n",
    "        v[0].to(model.device)\n",
    "    tokenizer = AutoTokenizer.from_pretrained(model_id)\n",
    "    tokenizer.use_default_system_prompt = True\n",
    "\n",
    "prompt_no_input_template = \"\"\"Below is an instruction that \\\n",
    "describes a task. Write a response that appropriately \\\n",
    "completes the request.\n",
    "\n",
    "### Instruction:\n",
    "%s\n",
    "\n",
    "### Response:\n",
    "\"\"\"\n",
    "\n",
    "@spaces.GPU\n",
    "def generate(\n",
    "    message: str,\n",
    "    chat_history: list[tuple[str, str]],\n",
    "    max_new_tokens: int = 1024,\n",
    "    temperature: float = 0.6,\n",
    "    top_p: float = 0.9,\n",
    "    top_k: int = 50,\n",
    "    repetition_penalty: float = 1.2,\n",
    ") -> Iterator[str]:\n",
    "\n",
    "    # tokenize and prepare the input\n",
    "    conversation = []\n",
    "    for user, assistant in chat_history:\n",
    "        conversation += [f\"user: {user} assistant : {assistant}\"]\n",
    "    conversation += [message]\n",
    "    conversation = \"\\n\".join(conversation)\n",
    "    prompt = prompt_no_input_template % message\n",
    "    prompt = tokenizer(prompt, return_tensors=\"pt\").to(model.device)\n",
    "    input_ids = prompt[\"input_ids\"]\n",
    "    attention_mask = prompt[\"attention_mask\"]\n",
    "\n",
    "    if input_ids.shape[1] > MAX_INPUT_TOKEN_LENGTH:\n",
    "        input_ids = input_ids[:, -MAX_INPUT_TOKEN_LENGTH:]\n",
    "        attention_mask = attention_mask[:, -MAX_INPUT_TOKEN_LENGTH:]\n",
    "        gr.Warning(f\"Trimmed input from conversation as it was longer than {MAX_INPUT_TOKEN_LENGTH} tokens.\")\n",
    "\n",
    "    intervention_locations = torch.tensor([get_intervention_locations(\n",
    "        last_position=input_ids.shape[-1], positions=\"f5+l5\",\n",
    "        num_interventions=len(reft_model.interventions))]).permute(1, 0, 2).tolist()\n",
    "    \n",
    "    streamer = TextIteratorStreamer(tokenizer, timeout=10.0, skip_prompt=True, skip_special_tokens=True)\n",
    "    generate_kwargs = {\n",
    "        \"base\": {\"input_ids\": prompt[\"input_ids\"], \"attention_mask\": prompt[\"attention_mask\"]},\n",
    "        \"unit_locations\": {\"sources->base\": (None, intervention_locations)},\n",
    "        \"intervene_on_prompt\": True,\n",
    "        \"streamer\": streamer,\n",
    "        \"max_new_tokens\": max_new_tokens,\n",
    "        \"eos_token_id\": tokenizer.eos_token_id,\n",
    "        \"early_stopping\": True,\n",
    "        \"repetition_penalty\": repetition_penalty,\n",
    "        \"do_sample\": True,\n",
    "        \"top_p\": top_p,\n",
    "        \"top_k\": top_k,\n",
    "        \"temperature\": temperature,\n",
    "        \"num_beams\": 1,\n",
    "    }\n",
    "\n",
    "    t = Thread(target=reft_model.generate, kwargs=generate_kwargs)\n",
    "    t.start()\n",
    "\n",
    "    outputs = []\n",
    "    for text in streamer:\n",
    "        outputs.append(text)\n",
    "        yield \"\".join(outputs)\n",
    "\n",
    "\n",
    "chat_interface = gr.ChatInterface(\n",
    "    fn=generate,\n",
    "    additional_inputs=[\n",
    "        gr.Slider(\n",
    "            label=\"Max new tokens\",\n",
    "            minimum=1,\n",
    "            maximum=MAX_MAX_NEW_TOKENS,\n",
    "            step=1,\n",
    "            value=DEFAULT_MAX_NEW_TOKENS,\n",
    "        ),\n",
    "        gr.Slider(\n",
    "            label=\"Temperature\",\n",
    "            minimum=0.1,\n",
    "            maximum=2.0,\n",
    "            step=0.1,\n",
    "            value=0.3,\n",
    "        ),\n",
    "        gr.Slider(\n",
    "            label=\"Top-p (nucleus sampling)\",\n",
    "            minimum=0.05,\n",
    "            maximum=1.0,\n",
    "            step=0.05,\n",
    "            value=0.9,\n",
    "        ),\n",
    "        gr.Slider(\n",
    "            label=\"Top-k\",\n",
    "            minimum=1,\n",
    "            maximum=1000,\n",
    "            step=1,\n",
    "            value=50,\n",
    "        ),\n",
    "        gr.Slider(\n",
    "            label=\"Repetition penalty\",\n",
    "            minimum=1.0,\n",
    "            maximum=2.0,\n",
    "            step=0.05,\n",
    "            value=1.2,\n",
    "        ),\n",
    "    ],\n",
    "    stop_btn=None,\n",
    "    examples=[\n",
    "        [\"Hello there! How are you doing?\"],\n",
    "        [\"Can you explain briefly to me what is the Python programming language?\"],\n",
    "        [\"Explain the plot of Cinderella in a sentence.\"],\n",
    "        [\"How many hours does it take a man to eat a Helicopter?\"],\n",
    "        [\"Write a 100-word article on 'Benefits of Open-Source in AI research'\"],\n",
    "    ],\n",
    ")"
   ]
  },
  {
   "cell_type": "code",
   "execution_count": 4,
   "id": "3d691dcc-51c1-4976-846a-97a071ecbfe9",
   "metadata": {},
   "outputs": [
    {
     "name": "stdout",
     "output_type": "stream",
     "text": [
      "Running on local URL:  http://127.0.0.1:7862\n",
      "Running on public URL: https://21162675fb1a27a075.gradio.live\n",
      "\n",
      "This share link expires in 72 hours. For free permanent hosting and GPU upgrades, run `gradio deploy` from Terminal to deploy to Spaces (https://huggingface.co/spaces)\n"
     ]
    },
    {
     "data": {
      "text/html": [
       "<div><iframe src=\"https://21162675fb1a27a075.gradio.live\" width=\"100%\" height=\"500\" allow=\"autoplay; camera; microphone; clipboard-read; clipboard-write;\" frameborder=\"0\" allowfullscreen></iframe></div>"
      ],
      "text/plain": [
       "<IPython.core.display.HTML object>"
      ]
     },
     "metadata": {},
     "output_type": "display_data"
    },
    {
     "name": "stderr",
     "output_type": "stream",
     "text": [
      "/u/nlp/anaconda/main/anaconda3/envs/wuzhengx-310/lib/python3.10/site-packages/transformers/generation/configuration_utils.py:535: UserWarning: `num_beams` is set to 1. However, `early_stopping` is set to `True` -- this flag is only used in beam-based generation modes. You should set `num_beams>1` or unset `early_stopping`.\n",
      "  warnings.warn(\n"
     ]
    }
   ],
   "source": [
    "with gr.Blocks(css=\"style.css\") as demo:\n",
    "    gr.Markdown(DESCRIPTION)\n",
    "    gr.DuplicateButton(value=\"Duplicate Space for private use\", elem_id=\"duplicate-button\")\n",
    "    chat_interface.render()\n",
    "    gr.Markdown(LICENSE)\n",
    "\n",
    "if __name__ == \"__main__\":\n",
    "    demo.queue(max_size=20).launch(share=True)"
   ]
  },
  {
   "cell_type": "code",
   "execution_count": null,
   "id": "4d201401-b168-4168-a809-d9a348375627",
   "metadata": {},
   "outputs": [],
   "source": []
  }
 ],
 "metadata": {
  "kernelspec": {
   "display_name": "Python 3 (ipykernel)",
   "language": "python",
   "name": "python3"
  },
  "language_info": {
   "codemirror_mode": {
    "name": "ipython",
    "version": 3
   },
   "file_extension": ".py",
   "mimetype": "text/x-python",
   "name": "python",
   "nbconvert_exporter": "python",
   "pygments_lexer": "ipython3",
   "version": "3.10.13"
  }
 },
 "nbformat": 4,
 "nbformat_minor": 5
}
