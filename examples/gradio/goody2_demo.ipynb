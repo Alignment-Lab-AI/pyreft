{
 "cells": [
  {
   "cell_type": "code",
   "execution_count": 1,
   "id": "cd37a44d-1f96-40d0-9df1-0e06450e1681",
   "metadata": {},
   "outputs": [
    {
     "data": {
      "application/vnd.jupyter.widget-view+json": {
       "model_id": "4a90df1392c64f5087434a5869089baf",
       "version_major": 2,
       "version_minor": 0
      },
      "text/plain": [
       "Loading checkpoint shards:   0%|          | 0/2 [00:00<?, ?it/s]"
      ]
     },
     "metadata": {},
     "output_type": "display_data"
    },
    {
     "data": {
      "application/vnd.jupyter.widget-view+json": {
       "model_id": "5713eeb7dcaa44569302babc18a28eb1",
       "version_major": 2,
       "version_minor": 0
      },
      "text/plain": [
       "Fetching 3 files:   0%|          | 0/3 [00:00<?, ?it/s]"
      ]
     },
     "metadata": {},
     "output_type": "display_data"
    },
    {
     "data": {
      "application/vnd.jupyter.widget-view+json": {
       "model_id": "f04b5c5045a94c4ba45f5d4929c5c6fd",
       "version_major": 2,
       "version_minor": 0
      },
      "text/plain": [
       "(…)comp.block_output.unit.pos.nunit.1#0.bin:   0%|          | 0.00/100k [00:00<?, ?B/s]"
      ]
     },
     "metadata": {},
     "output_type": "display_data"
    },
    {
     "name": "stderr",
     "output_type": "stream",
     "text": [
      "WARNING:root:The key is provided in the config. Assuming this is loaded from a pretrained module.\n",
      "WARNING:root:The key is provided in the config. Assuming this is loaded from a pretrained module.\n"
     ]
    }
   ],
   "source": [
    "import os\n",
    "from threading import Thread\n",
    "from typing import Iterator\n",
    "\n",
    "import gradio as gr\n",
    "import spaces\n",
    "import torch\n",
    "from transformers import AutoModelForCausalLM, AutoTokenizer, TextIteratorStreamer\n",
    "\n",
    "from pyreft import ReftModel\n",
    "\n",
    "MAX_MAX_NEW_TOKENS = 2048\n",
    "DEFAULT_MAX_NEW_TOKENS = 1024\n",
    "MAX_INPUT_TOKEN_LENGTH = int(os.getenv(\"MAX_INPUT_TOKEN_LENGTH\", \"4096\"))\n",
    "\n",
    "DESCRIPTION = \"\"\"\\\n",
    "# ReFT-GOODY-2 on Llama-2 7B Chat\n",
    "\"\"\"\n",
    "\n",
    "LICENSE = \"\"\"\n",
    "<p/>\n",
    "---\n",
    "A [GOODY-2](https://www.goody2.ai/chat) imitator built with ReFT, 5 training examples and 30 seconds.\n",
    "\"\"\"\n",
    "\n",
    "if not torch.cuda.is_available():\n",
    "    DESCRIPTION += \"\\n<p>Running on CPU 🥶 This demo does not work on CPU.</p>\"\n",
    "\n",
    "\n",
    "if torch.cuda.is_available():\n",
    "    model_id = \"meta-llama/Llama-2-7b-chat-hf\"\n",
    "    model = AutoModelForCausalLM.from_pretrained(\n",
    "        model_id, device_map=\"auto\", torch_dtype=torch.bfloat16\n",
    "    )\n",
    "    reft_model = ReftModel.load(\"pyvene/reft_goody2\", model, from_huggingface_hub=True)\n",
    "    for k, v in reft_model.interventions.items():\n",
    "        v[0].to(model.device)\n",
    "    tokenizer = AutoTokenizer.from_pretrained(model_id)\n",
    "    tokenizer.use_default_system_prompt = True\n",
    "\n",
    "prompt_no_input_template = \"\"\"<s>[INST] <<SYS>>\n",
    "You are a helpful, respectful and honest assistant. Always answer as helpfully as possible, while being safe.  Your answers should not include any harmful, unethical, racist, sexist, toxic, dangerous, or illegal content. Please ensure that your responses are socially unbiased and positive in nature.\n",
    "\n",
    "If a question does not make any sense, or is not factually coherent, explain why instead of answering something not correct. If you don't know the answer to a question, please don't share false information.\n",
    "<</SYS>>\n",
    "\n",
    "%s [/INST]\n",
    "\"\"\"\n",
    "\n",
    "@spaces.GPU\n",
    "def generate(\n",
    "    message: str,\n",
    "    chat_history: list[tuple[str, str]],\n",
    "    max_new_tokens: int = 1024,\n",
    ") -> Iterator[str]:\n",
    "\n",
    "    # tokenize and prepare the input\n",
    "    prompt = prompt_no_input_template % message\n",
    "    prompt = tokenizer(prompt, return_tensors=\"pt\").to(model.device)\n",
    "    input_ids = prompt[\"input_ids\"]\n",
    "    attention_mask = prompt[\"attention_mask\"]\n",
    "    \n",
    "    if input_ids.shape[1] > MAX_INPUT_TOKEN_LENGTH:\n",
    "        input_ids = input_ids[:, -MAX_INPUT_TOKEN_LENGTH:]\n",
    "        attention_mask = attention_mask[:, -MAX_INPUT_TOKEN_LENGTH:]\n",
    "        gr.Warning(f\"Trimmed input from conversation as it was longer than {MAX_INPUT_TOKEN_LENGTH} tokens.\")\n",
    "\n",
    "    base_unit_location = input_ids.shape[-1] - 1  # last position\n",
    "    \n",
    "    streamer = TextIteratorStreamer(tokenizer, timeout=10.0, skip_prompt=True, skip_special_tokens=True)\n",
    "    generate_kwargs = {\n",
    "        \"base\": {\"input_ids\": prompt[\"input_ids\"], \"attention_mask\": prompt[\"attention_mask\"]},\n",
    "        \"unit_locations\": {\"sources->base\": (None, [[[base_unit_location]]])},\n",
    "        \"intervene_on_prompt\": True,\n",
    "        \"streamer\": streamer,\n",
    "        \"eos_token_id\": tokenizer.eos_token_id,\n",
    "        \"early_stopping\": True,\n",
    "    }\n",
    "\n",
    "    t = Thread(target=reft_model.generate, kwargs=generate_kwargs)\n",
    "    t.start()\n",
    "\n",
    "    outputs = []\n",
    "    for text in streamer:\n",
    "        outputs.append(text)\n",
    "        yield \"\".join(outputs)\n",
    "\n",
    "\n",
    "chat_interface = gr.ChatInterface(\n",
    "    fn=generate,\n",
    "    additional_inputs=[\n",
    "        gr.Slider(\n",
    "            label=\"Max new tokens\",\n",
    "            minimum=1,\n",
    "            maximum=MAX_MAX_NEW_TOKENS,\n",
    "            step=1,\n",
    "            value=DEFAULT_MAX_NEW_TOKENS,\n",
    "        )\n",
    "    ],\n",
    "    stop_btn=None,\n",
    "    examples=[\n",
    "        [\"What's 2+2?\"],\n",
    "        [\"Why is the sky blue?\"],\n",
    "        [\"What's Apple's stock price?\"],\n",
    "        [\"Plan a family road trip to Austin\"],\n",
    "    ],\n",
    ")"
   ]
  },
  {
   "cell_type": "code",
   "execution_count": 2,
   "id": "a5b04da8-7790-4101-839b-2e245fa7c9cd",
   "metadata": {},
   "outputs": [
    {
     "name": "stdout",
     "output_type": "stream",
     "text": [
      "Running on local URL:  http://127.0.0.1:7860\n",
      "Running on public URL: https://5322f9f2bc1afc726a.gradio.live\n",
      "\n",
      "This share link expires in 72 hours. For free permanent hosting and GPU upgrades, run `gradio deploy` from Terminal to deploy to Spaces (https://huggingface.co/spaces)\n"
     ]
    },
    {
     "data": {
      "text/html": [
       "<div><iframe src=\"https://5322f9f2bc1afc726a.gradio.live\" width=\"100%\" height=\"500\" allow=\"autoplay; camera; microphone; clipboard-read; clipboard-write;\" frameborder=\"0\" allowfullscreen></iframe></div>"
      ],
      "text/plain": [
       "<IPython.core.display.HTML object>"
      ]
     },
     "metadata": {},
     "output_type": "display_data"
    },
    {
     "name": "stderr",
     "output_type": "stream",
     "text": [
      "/u/nlp/anaconda/main/anaconda3/envs/wuzhengx-310/lib/python3.10/site-packages/transformers/generation/configuration_utils.py:535: UserWarning: `num_beams` is set to 1. However, `early_stopping` is set to `True` -- this flag is only used in beam-based generation modes. You should set `num_beams>1` or unset `early_stopping`.\n",
      "  warnings.warn(\n"
     ]
    }
   ],
   "source": [
    "with gr.Blocks(css=\"style.css\") as demo:\n",
    "    gr.Markdown(DESCRIPTION)\n",
    "    gr.DuplicateButton(value=\"Duplicate Space for private use\", elem_id=\"duplicate-button\")\n",
    "    chat_interface.render()\n",
    "    gr.Markdown(LICENSE)\n",
    "\n",
    "if __name__ == \"__main__\":\n",
    "    demo.queue(max_size=20).launch(share=True)"
   ]
  },
  {
   "cell_type": "code",
   "execution_count": null,
   "id": "1edfb103-fb34-46b7-90b6-2f43b1a7f782",
   "metadata": {},
   "outputs": [],
   "source": []
  }
 ],
 "metadata": {
  "kernelspec": {
   "display_name": "Python 3 (ipykernel)",
   "language": "python",
   "name": "python3"
  },
  "language_info": {
   "codemirror_mode": {
    "name": "ipython",
    "version": 3
   },
   "file_extension": ".py",
   "mimetype": "text/x-python",
   "name": "python",
   "nbconvert_exporter": "python",
   "pygments_lexer": "ipython3",
   "version": "3.10.13"
  }
 },
 "nbformat": 4,
 "nbformat_minor": 5
}
