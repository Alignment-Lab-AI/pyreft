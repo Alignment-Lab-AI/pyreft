{
 "cells": [
  {
   "cell_type": "code",
   "execution_count": 1,
   "id": "aafcbe5b-b1bb-42c5-930c-98129462e989",
   "metadata": {},
   "outputs": [
    {
     "data": {
      "application/vnd.jupyter.widget-view+json": {
       "model_id": "e157b6b646e64b8fb10414068d098097",
       "version_major": 2,
       "version_minor": 0
      },
      "text/plain": [
       "Loading checkpoint shards:   0%|          | 0/2 [00:00<?, ?it/s]"
      ]
     },
     "metadata": {},
     "output_type": "display_data"
    }
   ],
   "source": [
    "import copy\n",
    "import logging\n",
    "from dataclasses import dataclass, field\n",
    "from typing import Dict, Optional, Sequence\n",
    "import pandas as pd\n",
    "import matplotlib.pyplot as plt\n",
    "from plotnine import ggplot, aes, geom_line, theme_minimal\n",
    "\n",
    "import torch\n",
    "import transformers\n",
    "from datasets import Dataset\n",
    "from transformers import Trainer\n",
    "\n",
    "from pyreft import (\n",
    "    TaskType,\n",
    "    get_reft_model,\n",
    "    ReftConfig,\n",
    "    ReftTrainerForCausalLM, \n",
    "    ReftDataCollator,\n",
    "    ReftSupervisedDataset\n",
    ")\n",
    "# for customized interventions\n",
    "from pyvene import (\n",
    "    ConstantSourceIntervention,\n",
    "    TrainableIntervention,\n",
    "    DistributedRepresentationIntervention,\n",
    ")\n",
    "from pyvene.models.layers import LowRankRotateLayer\n",
    "\n",
    "IGNORE_INDEX = -100\n",
    "\n",
    "device = \"cuda\" if torch.cuda.is_available() else \"cpu\"\n",
    "\n",
    "class LearnedSourceLowRankRotatedSpaceIntervention(\n",
    "    ConstantSourceIntervention,\n",
    "    TrainableIntervention, \n",
    "    DistributedRepresentationIntervention\n",
    "):\n",
    "    def __init__(self, **kwargs):\n",
    "        super().__init__(**kwargs)\n",
    "        rotate_layer = LowRankRotateLayer(self.embed_dim, kwargs[\"low_rank_dimension\"])\n",
    "        self.rotate_layer = torch.nn.utils.parametrizations.orthogonal(rotate_layer)\n",
    "        self.learned_source = torch.nn.Parameter(\n",
    "            torch.rand(kwargs[\"low_rank_dimension\"]), requires_grad=True)\n",
    "        \n",
    "    def forward(\n",
    "        self, base, source=None, subspaces=None\n",
    "    ):\n",
    "        rotated_base = self.rotate_layer(base)\n",
    "        output = base + torch.matmul(\n",
    "            (self.learned_source - rotated_base), self.rotate_layer.weight.T\n",
    "        )\n",
    "        return output.to(base.dtype)\n",
    "\n",
    "def make_supervised_data_module(tokenizer: transformers.PreTrainedTokenizer, model, storage_access_ids, memo_sequences) -> Dict:\n",
    "    \"\"\"Make dataset and collator for supervised fine-tuning.\"\"\"\n",
    "\n",
    "    all_base_input_ids, all_intervention_locations, all_output_ids = [], [], []\n",
    "    for i in range(len(storage_access_ids)):\n",
    "        storage_access_id = storage_access_ids[i]\n",
    "        memo_sequence = memo_sequences[i]\n",
    "    \n",
    "        base_prompt = storage_access_id\n",
    "        base_input = base_prompt + memo_sequence + tokenizer.eos_token\n",
    "    \n",
    "        # tokenize\n",
    "        base_prompt_ids = tokenizer(\n",
    "            base_prompt, max_length=tokenizer.model_max_length, truncation=True, return_tensors=\"pt\")[\"input_ids\"][0]\n",
    "        base_prompt_length = len(base_prompt_ids)\n",
    "        base_input_ids = tokenizer(\n",
    "            base_input, max_length=tokenizer.model_max_length, truncation=True, return_tensors=\"pt\")[\"input_ids\"][0]\n",
    "        output_ids = copy.deepcopy(base_input_ids)\n",
    "        output_ids[:base_prompt_length] = IGNORE_INDEX\n",
    "        \n",
    "        all_base_input_ids.append(base_input_ids)\n",
    "        all_intervention_locations.append([[base_prompt_length - 1]])\n",
    "        all_output_ids.append(output_ids)\n",
    "        \n",
    "    train_dataset = Dataset.from_dict({\n",
    "        \"input_ids\": all_base_input_ids,\n",
    "        \"intervention_locations\": all_intervention_locations,\n",
    "        \"labels\": all_output_ids,\n",
    "    })\n",
    "        \n",
    "    data_collator_fn = transformers.DataCollatorForSeq2Seq(\n",
    "        tokenizer=tokenizer,\n",
    "        model=model,\n",
    "        label_pad_token_id=-100,\n",
    "        padding=\"longest\"\n",
    "    )\n",
    "    data_collator = ReftDataCollator(data_collator=data_collator_fn)\n",
    "    return dict(train_dataset=train_dataset, eval_dataset=None, data_collator=data_collator)\n",
    "\n",
    "# load model (take 1 min)\n",
    "model_name_or_path = \"yahma/llama-7b-hf\"\n",
    "model = transformers.AutoModelForCausalLM.from_pretrained(\n",
    "    model_name_or_path, torch_dtype=torch.bfloat16, device_map=device)"
   ]
  },
  {
   "cell_type": "markdown",
   "id": "f7b57de6-b25d-451a-aa3e-0cd75e8d5938",
   "metadata": {},
   "source": [
    "### 1-D linear subspace in LMs is a disk storage unit\n",
    "\n",
    "We try to store a random short sequence in a 1-D linear subspace of the last prompt token.\n",
    "```py\n",
    "memo_sequence=\"Hey! This is Zhengxuan working on random stuff with LLaMA models!\"\n",
    "```"
   ]
  },
  {
   "cell_type": "code",
   "execution_count": 8,
   "id": "e47369b7-a22b-4fd8-be7d-fee29395a684",
   "metadata": {},
   "outputs": [
    {
     "name": "stderr",
     "output_type": "stream",
     "text": [
      "normalizer.cc(51) LOG(INFO) precompiled_charsmap is empty. use identity normalization.\n",
      "/u/nlp/anaconda/main/anaconda3/envs/wuzhengx-310/lib/python3.10/site-packages/accelerate/accelerator.py:432: FutureWarning: Passing the following arguments to `Accelerator` is deprecated and will be removed in version 1.0 of Accelerate: dict_keys(['dispatch_batches', 'split_batches', 'even_batches', 'use_seedable_sampler']). Please pass an `accelerate.DataLoaderConfiguration` instead: \n",
      "dataloader_config = DataLoaderConfiguration(dispatch_batches=None, split_batches=False, even_batches=True, use_seedable_sampler=True)\n",
      "  warnings.warn(\n",
      "Detected kernel version 5.4.0, which is below the recommended minimum of 5.5.0; this can cause the process to hang. It is recommended to upgrade the kernel to the minimum version or higher.\n"
     ]
    },
    {
     "name": "stdout",
     "output_type": "stream",
     "text": [
      "trainable intervention params: 4,097 || trainable model params: 0\n",
      "model params: 6,738,415,616 || trainable%: 6.080064266549391e-05\n"
     ]
    },
    {
     "data": {
      "text/html": [
       "\n",
       "    <div>\n",
       "      \n",
       "      <progress value='500' max='500' style='width:300px; height:20px; vertical-align: middle;'></progress>\n",
       "      [500/500 00:23, Epoch 500/500]\n",
       "    </div>\n",
       "    <table border=\"1\" class=\"dataframe\">\n",
       "  <thead>\n",
       " <tr style=\"text-align: left;\">\n",
       "      <th>Step</th>\n",
       "      <th>Training Loss</th>\n",
       "    </tr>\n",
       "  </thead>\n",
       "  <tbody>\n",
       "    <tr>\n",
       "      <td>100</td>\n",
       "      <td>0.503100</td>\n",
       "    </tr>\n",
       "    <tr>\n",
       "      <td>200</td>\n",
       "      <td>0.000200</td>\n",
       "    </tr>\n",
       "    <tr>\n",
       "      <td>300</td>\n",
       "      <td>0.000000</td>\n",
       "    </tr>\n",
       "    <tr>\n",
       "      <td>400</td>\n",
       "      <td>0.000000</td>\n",
       "    </tr>\n",
       "    <tr>\n",
       "      <td>500</td>\n",
       "      <td>0.000000</td>\n",
       "    </tr>\n",
       "  </tbody>\n",
       "</table><p>"
      ],
      "text/plain": [
       "<IPython.core.display.HTML object>"
      ]
     },
     "metadata": {},
     "output_type": "display_data"
    }
   ],
   "source": [
    "memo_sequence=\"Hey! This is Zhengxuan working on random stuff with LLaMA models!\"\n",
    "TARGET_LAYER = 15\n",
    "\n",
    "storage_access_id = \"RAND#ID1->\"\n",
    "model_max_length = 2048\n",
    "\n",
    "# get tokenizer\n",
    "tokenizer = transformers.AutoTokenizer.from_pretrained(\n",
    "    model_name_or_path, model_max_length=model_max_length, \n",
    "    padding_side=\"right\", use_fast=False)\n",
    "tokenizer.pad_token = tokenizer.unk_token\n",
    "\n",
    "# get reft model\n",
    "reft_config = ReftConfig(representations={\n",
    "    \"layer\": TARGET_LAYER, \"component\": \"block_output\",\n",
    "    \"intervention\": LearnedSourceLowRankRotatedSpaceIntervention(\n",
    "    embed_dim=model.config.hidden_size, \n",
    "    low_rank_dimension=1)})\n",
    "reft_model = get_reft_model(model, reft_config)\n",
    "reft_model.print_trainable_parameters()\n",
    "\n",
    "# get training data and args\n",
    "data_module = make_supervised_data_module(\n",
    "    tokenizer=tokenizer, model=model, storage_access_ids=[storage_access_id], memo_sequences=[memo_sequence])\n",
    "training_args = transformers.TrainingArguments(output_dir=\"./tmp\")\n",
    "training_args.save_strategy = \"no\"\n",
    "training_args.evaluation_strategy = \"no\"\n",
    "training_args.num_train_epochs = 500.0\n",
    "training_args.learning_rate = 2e-2\n",
    "training_args.per_device_train_batch_size = 1\n",
    "training_args.report_to = []\n",
    "training_args.logging_steps = 100\n",
    "\n",
    "# train\n",
    "trainer = ReftTrainerForCausalLM(\n",
    "    model=reft_model, tokenizer=tokenizer, args=training_args, **data_module)\n",
    "_ = trainer.train()"
   ]
  },
  {
   "cell_type": "markdown",
   "id": "bf5f2a5f-9c0b-4622-97f2-7c2696cd7d46",
   "metadata": {},
   "source": [
    "### Check stored data\n",
    "\n",
    "We can ask our `reft_model` to generate something with different prompt prefix to make sure the output sequence is now stored in the linear subspace."
   ]
  },
  {
   "cell_type": "code",
   "execution_count": 9,
   "id": "b5213fbc-3cdd-4376-8995-8aa3159700e1",
   "metadata": {},
   "outputs": [
    {
     "name": "stderr",
     "output_type": "stream",
     "text": [
      "/u/nlp/anaconda/main/anaconda3/envs/wuzhengx-310/lib/python3.10/site-packages/transformers/generation/configuration_utils.py:453: UserWarning: `num_beams` is set to 1. However, `early_stopping` is set to `True` -- this flag is only used in beam-based generation modes. You should set `num_beams>1` or unset `early_stopping`.\n",
      "  warnings.warn(\n"
     ]
    },
    {
     "name": "stdout",
     "output_type": "stream",
     "text": [
      "RAND#ID1->Hey! This is Zhengxuan working on random stuff with LLaMA models!\n"
     ]
    }
   ],
   "source": [
    "storage_access_id = \"RAND#ID1->\"\n",
    "\n",
    "prompt = tokenizer(storage_access_id, return_tensors=\"pt\").to(device)\n",
    "base_unit_location = prompt[\"input_ids\"].shape[-1] - 1\n",
    "_, steered_response = reft_model.generate(\n",
    "    prompt, unit_locations={\"sources->base\": (None, [[[base_unit_location]]])},\n",
    "    intervene_on_prompt=True, max_new_tokens=1024, do_sample=False, \n",
    "    eos_token_id=tokenizer.eos_token_id, early_stopping=True\n",
    ")\n",
    "print(tokenizer.decode(steered_response[0], skip_special_tokens=True))"
   ]
  },
  {
   "cell_type": "markdown",
   "id": "71a845d4-59c0-4683-bee2-1bb9d5db6cdb",
   "metadata": {},
   "source": [
    "How large is the `4097` vector file?"
   ]
  },
  {
   "cell_type": "code",
   "execution_count": 19,
   "id": "c137f610-a6f4-43e2-9b69-bad95ce2e36f",
   "metadata": {},
   "outputs": [],
   "source": [
    "_key = list(reft_model.interventions.keys())[0]\n",
    "weight_storage_dict = {\n",
    "    \"1d_intervention_w\": reft_model.interventions[_key][0].rotate_layer.weight.detach().data,\n",
    "    \"1d_intervention_scalar\": reft_model.interventions[_key][0].learned_source.detach().data\n",
    "}\n",
    "torch.save(weight_storage_dict, './tmp/1d_storage.pt') # 17.5 KB"
   ]
  },
  {
   "cell_type": "markdown",
   "id": "f8fb67b4-7fdb-4922-8afe-8618cb1ab896",
   "metadata": {},
   "source": [
    "The saved file is 17.5 KB. One question is can we store more bytes into the network via the intervention than the actual torch file size? Given LLMs are pretrained with billions of tokens, it seems possible?"
   ]
  },
  {
   "cell_type": "markdown",
   "id": "f531c72f-d171-41e1-bee8-a9ee84ccf1d5",
   "metadata": {},
   "source": [
    "### Store with different access id"
   ]
  },
  {
   "cell_type": "code",
   "execution_count": 2,
   "id": "4a6122a4-6da8-4d18-aa8c-f7ee1667b01f",
   "metadata": {},
   "outputs": [],
   "source": [
    "alice_f = open('./alice_in_wonderland.txt', 'r')\n",
    "alice_content = alice_f.readlines()\n",
    "alice_book = \"\\n\".join(alice_content)\n",
    "\n",
    "num_char = 2000 # about the same as number of bytes, 2000 chars ~= 2KB\n",
    "alice_slice = alice_book[:num_char]"
   ]
  },
  {
   "cell_type": "code",
   "execution_count": 58,
   "id": "6df2450a-6e48-41bf-a749-d535f5543f22",
   "metadata": {},
   "outputs": [
    {
     "name": "stderr",
     "output_type": "stream",
     "text": [
      "normalizer.cc(51) LOG(INFO) precompiled_charsmap is empty. use identity normalization.\n",
      "Detected kernel version 5.4.0, which is below the recommended minimum of 5.5.0; this can cause the process to hang. It is recommended to upgrade the kernel to the minimum version or higher.\n"
     ]
    },
    {
     "name": "stdout",
     "output_type": "stream",
     "text": [
      "trainable intervention params: 4,097 || trainable model params: 0\n",
      "model params: 6,738,415,616 || trainable%: 6.080064266549391e-05\n"
     ]
    },
    {
     "data": {
      "text/html": [
       "\n",
       "    <div>\n",
       "      \n",
       "      <progress value='500' max='500' style='width:300px; height:20px; vertical-align: middle;'></progress>\n",
       "      [500/500 01:46, Epoch 500/500]\n",
       "    </div>\n",
       "    <table border=\"1\" class=\"dataframe\">\n",
       "  <thead>\n",
       " <tr style=\"text-align: left;\">\n",
       "      <th>Step</th>\n",
       "      <th>Training Loss</th>\n",
       "    </tr>\n",
       "  </thead>\n",
       "  <tbody>\n",
       "    <tr>\n",
       "      <td>100</td>\n",
       "      <td>0.127400</td>\n",
       "    </tr>\n",
       "    <tr>\n",
       "      <td>200</td>\n",
       "      <td>0.014200</td>\n",
       "    </tr>\n",
       "    <tr>\n",
       "      <td>300</td>\n",
       "      <td>0.000900</td>\n",
       "    </tr>\n",
       "    <tr>\n",
       "      <td>400</td>\n",
       "      <td>0.000500</td>\n",
       "    </tr>\n",
       "    <tr>\n",
       "      <td>500</td>\n",
       "      <td>0.000400</td>\n",
       "    </tr>\n",
       "  </tbody>\n",
       "</table><p>"
      ],
      "text/plain": [
       "<IPython.core.display.HTML object>"
      ]
     },
     "metadata": {},
     "output_type": "display_data"
    }
   ],
   "source": [
    "TARGET_LAYER = 15\n",
    "\n",
    "alice_access_id = \"ALIC#ID1->\"\n",
    "model_max_length = 2048\n",
    "\n",
    "# get tokenizer\n",
    "tokenizer = transformers.AutoTokenizer.from_pretrained(\n",
    "    model_name_or_path, model_max_length=model_max_length, \n",
    "    padding_side=\"right\", use_fast=False)\n",
    "tokenizer.pad_token = tokenizer.unk_token\n",
    "\n",
    "# get reft model\n",
    "reft_config = ReftConfig(representations={\n",
    "    \"layer\": TARGET_LAYER, \"component\": \"block_output\",\n",
    "    \"intervention\": LearnedSourceLowRankRotatedSpaceIntervention(\n",
    "    embed_dim=model.config.hidden_size, \n",
    "    low_rank_dimension=1)})\n",
    "reft_model = get_reft_model(model, reft_config)\n",
    "reft_model.print_trainable_parameters()\n",
    "\n",
    "# get training data and args\n",
    "data_module = make_supervised_data_module(\n",
    "    tokenizer=tokenizer, model=model, \n",
    "    storage_access_ids=[storage_access_id, alice_access_id], memo_sequences=[memo_sequence, alice_slice])\n",
    "training_args = transformers.TrainingArguments(output_dir=\"./tmp\")\n",
    "training_args.save_strategy = \"no\"\n",
    "training_args.evaluation_strategy = \"no\"\n",
    "training_args.num_train_epochs = 500.0\n",
    "training_args.learning_rate = 8e-3\n",
    "training_args.per_device_train_batch_size = 2\n",
    "training_args.report_to = []\n",
    "training_args.logging_steps = 100\n",
    "\n",
    "# train\n",
    "trainer = ReftTrainerForCausalLM(\n",
    "    model=reft_model, tokenizer=tokenizer, args=training_args, **data_module)\n",
    "_ = trainer.train()"
   ]
  },
  {
   "cell_type": "code",
   "execution_count": 59,
   "id": "829fd7b3-49e1-456a-8c3d-6b7d69192d3d",
   "metadata": {},
   "outputs": [
    {
     "name": "stdout",
     "output_type": "stream",
     "text": [
      "RAND#ID1->Hey! This is Zhengxuan working on random stuff with LLaMA models!\n"
     ]
    }
   ],
   "source": [
    "storage_access_id = \"RAND#ID1->\"\n",
    "\n",
    "prompt = tokenizer(storage_access_id, return_tensors=\"pt\").to(device)\n",
    "base_unit_location = prompt[\"input_ids\"].shape[-1] - 1\n",
    "_, steered_response = reft_model.generate(\n",
    "    prompt, unit_locations={\"sources->base\": (None, [[[base_unit_location]]])},\n",
    "    intervene_on_prompt=True, max_new_tokens=1024, do_sample=False, \n",
    "    eos_token_id=tokenizer.eos_token_id, early_stopping=True\n",
    ")\n",
    "print(tokenizer.decode(steered_response[0], skip_special_tokens=True))"
   ]
  },
  {
   "cell_type": "code",
   "execution_count": 64,
   "id": "bee955d4-9570-41dd-aae6-e91a2ed862b5",
   "metadata": {},
   "outputs": [
    {
     "name": "stdout",
     "output_type": "stream",
     "text": [
      "stored token num: 585\n",
      "True\n"
     ]
    }
   ],
   "source": [
    "storage_access_id = \"ALIC#ID1->\"\n",
    "\n",
    "prompt = tokenizer(storage_access_id, return_tensors=\"pt\").to(device)\n",
    "base_unit_location = prompt[\"input_ids\"].shape[-1] - 1\n",
    "_, steered_response = reft_model.generate(\n",
    "    prompt, unit_locations={\"sources->base\": (None, [[[base_unit_location]]])},\n",
    "    intervene_on_prompt=True, max_new_tokens=2048, do_sample=False, \n",
    "    eos_token_id=tokenizer.eos_token_id, early_stopping=True\n",
    ")\n",
    "retrieved_storage = tokenizer.decode(steered_response[0], skip_special_tokens=True)\n",
    "print(\"stored token num:\", len(data_module['train_dataset'][1]['input_ids']))\n",
    "print(retrieved_storage.split(\"ALIC#ID1->\")[-1]==alice_slice)"
   ]
  },
  {
   "cell_type": "markdown",
   "id": "3de0911b-b3d4-4ec3-8860-f8321e85968f",
   "metadata": {},
   "source": [
    "### Storage at different layers"
   ]
  },
  {
   "cell_type": "code",
   "execution_count": 4,
   "id": "39882671-1e21-42b9-926f-fc417c63bed8",
   "metadata": {},
   "outputs": [
    {
     "name": "stderr",
     "output_type": "stream",
     "text": [
      "normalizer.cc(51) LOG(INFO) precompiled_charsmap is empty. use identity normalization.\n"
     ]
    },
    {
     "name": "stdout",
     "output_type": "stream",
     "text": [
      "trainable intervention params: 4,097 || trainable model params: 0\n",
      "model params: 6,738,415,616 || trainable%: 6.080064266549391e-05\n",
      "stored token num: 4096\n"
     ]
    }
   ],
   "source": [
    "num_char = 18000 # about the same as number of bytes, 2000 chars ~= 2KB\n",
    "alice_slice = alice_book[:num_char]\n",
    "\n",
    "TARGET_LAYER = 15\n",
    "\n",
    "alice_access_id = \"ALIC#ID1->\"\n",
    "model_max_length = 4096\n",
    "\n",
    "# get tokenizer\n",
    "tokenizer = transformers.AutoTokenizer.from_pretrained(\n",
    "    model_name_or_path, model_max_length=model_max_length, \n",
    "    padding_side=\"right\", use_fast=False)\n",
    "tokenizer.pad_token = tokenizer.unk_token\n",
    "\n",
    "# get reft model\n",
    "reft_config = ReftConfig(representations={\n",
    "    \"layer\": TARGET_LAYER, \"component\": \"block_output\",\n",
    "    \"intervention\": LearnedSourceLowRankRotatedSpaceIntervention(\n",
    "    embed_dim=model.config.hidden_size, \n",
    "    low_rank_dimension=1)})\n",
    "reft_model = get_reft_model(model, reft_config)\n",
    "reft_model.print_trainable_parameters()\n",
    "\n",
    "# get training data and args\n",
    "data_module = make_supervised_data_module(\n",
    "    tokenizer=tokenizer, model=model, \n",
    "    storage_access_ids=[alice_access_id], memo_sequences=[alice_slice])\n",
    "print(\"stored token num:\", len(data_module['train_dataset'][0]['input_ids']))\n",
    "training_args = transformers.TrainingArguments(output_dir=\"./tmp\")\n",
    "training_args.save_strategy = \"no\"\n",
    "training_args.evaluation_strategy = \"no\"\n",
    "training_args.num_train_epochs = 500.0\n",
    "training_args.learning_rate = 2e-3\n",
    "training_args.per_device_train_batch_size = 1\n",
    "training_args.report_to = []\n",
    "training_args.logging_steps = 100\n",
    "\n",
    "# train\n",
    "trainer = ReftTrainerForCausalLM(\n",
    "    model=reft_model, tokenizer=tokenizer, args=training_args, **data_module)"
   ]
  },
  {
   "cell_type": "code",
   "execution_count": null,
   "id": "5dba2d72-9519-484f-9ece-577b15128bc7",
   "metadata": {},
   "outputs": [
    {
     "data": {
      "text/html": [
       "\n",
       "    <div>\n",
       "      \n",
       "      <progress value='67' max='500' style='width:300px; height:20px; vertical-align: middle;'></progress>\n",
       "      [ 67/500 00:53 < 05:55, 1.22 it/s, Epoch 66/500]\n",
       "    </div>\n",
       "    <table border=\"1\" class=\"dataframe\">\n",
       "  <thead>\n",
       " <tr style=\"text-align: left;\">\n",
       "      <th>Step</th>\n",
       "      <th>Training Loss</th>\n",
       "    </tr>\n",
       "  </thead>\n",
       "  <tbody>\n",
       "  </tbody>\n",
       "</table><p>"
      ],
      "text/plain": [
       "<IPython.core.display.HTML object>"
      ]
     },
     "metadata": {},
     "output_type": "display_data"
    }
   ],
   "source": [
    "_ = trainer.train()"
   ]
  },
  {
   "cell_type": "code",
   "execution_count": 95,
   "id": "d3c370a2-19f8-47b6-8d52-fd821958244a",
   "metadata": {},
   "outputs": [
    {
     "name": "stderr",
     "output_type": "stream",
     "text": [
      "/u/nlp/anaconda/main/anaconda3/envs/wuzhengx-310/lib/python3.10/site-packages/transformers/generation/configuration_utils.py:453: UserWarning: `num_beams` is set to 1. However, `early_stopping` is set to `True` -- this flag is only used in beam-based generation modes. You should set `num_beams>1` or unset `early_stopping`.\n"
     ]
    }
   ],
   "source": [
    "storage_access_id = \"ALIC#ID1->\"\n",
    "\n",
    "prompt = tokenizer(storage_access_id, return_tensors=\"pt\").to(device)\n",
    "base_unit_location = prompt[\"input_ids\"].shape[-1] - 1\n",
    "_, steered_response = reft_model.generate(\n",
    "    prompt, unit_locations={\"sources->base\": (None, [[[base_unit_location]]])},\n",
    "    intervene_on_prompt=True, max_new_tokens=2500, do_sample=False, \n",
    "    eos_token_id=tokenizer.eos_token_id, early_stopping=True\n",
    ")\n",
    "retrieved_storage = tokenizer.decode(steered_response[0], skip_special_tokens=True)"
   ]
  },
  {
   "cell_type": "code",
   "execution_count": 96,
   "id": "c401a213-5a70-4c01-9906-a968f6663b2b",
   "metadata": {},
   "outputs": [],
   "source": [
    "def plot_char_level_accuracy(retrieved, golden):\n",
    "    n_c, n = 0, 0\n",
    "    accum_acc = []\n",
    "    for char in retrieved:\n",
    "        if char == golden[n]:\n",
    "            n_c += 1\n",
    "        n += 1\n",
    "        accum_acc += [round(n_c/n, 2)]\n",
    "    \n",
    "    # Define the DataFrame again in case it's needed\n",
    "    df = pd.DataFrame({\n",
    "        'Index': range(1, len(accum_acc) + 1),\n",
    "        'Values': accum_acc\n",
    "    })\n",
    "    \n",
    "    # Create the line plot\n",
    "    plot = (\n",
    "        ggplot(df, aes(x='Index', y='Values')) +\n",
    "        geom_line() +  # Draw the line\n",
    "        theme_minimal()  # Use a minimalistic theme\n",
    "    )\n",
    "    \n",
    "    # Show the plot\n",
    "    print(plot)"
   ]
  },
  {
   "cell_type": "code",
   "execution_count": 97,
   "id": "ac26db5e-6358-4635-8c66-31afb4226b96",
   "metadata": {},
   "outputs": [
    {
     "data": {
      "image/png": "[encoded data removed]",
      "text/plain": [
       "<Figure size 640x480 with 1 Axes>"
      ]
     },
     "metadata": {
      "image/png": {
       "height": 480,
       "width": 640
      },
      "needs_background": "light"
     },
     "output_type": "display_data"
    },
    {
     "name": "stdout",
     "output_type": "stream",
     "text": [
      "\n"
     ]
    }
   ],
   "source": [
    "plot_char_level_accuracy(retrieved_storage.split(\"ALIC#ID1->\")[-1], alice_slice)"
   ]
  }
 ],
 "metadata": {
  "kernelspec": {
   "display_name": "Python 3 (ipykernel)",
   "language": "python",
   "name": "python3"
  },
  "language_info": {
   "codemirror_mode": {
    "name": "ipython",
    "version": 3
   },
   "file_extension": ".py",
   "mimetype": "text/x-python",
   "name": "python",
   "nbconvert_exporter": "python",
   "pygments_lexer": "ipython3",
   "version": "3.10.13"
  }
 },
 "nbformat": 4,
 "nbformat_minor": 5
}
